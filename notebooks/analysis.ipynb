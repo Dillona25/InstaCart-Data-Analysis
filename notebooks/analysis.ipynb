{
 "cells": [
  {
   "cell_type": "code",
   "execution_count": null,
   "metadata": {},
   "outputs": [
    {
     "name": "stdout",
     "output_type": "stream",
     "text": [
      "                     aisle_id;aisle\n",
      "0           1;prepared soups salads\n",
      "1               2;specialty cheeses\n",
      "2             3;energy granola bars\n",
      "3                   4;instant foods\n",
      "4      5;marinades meat preparation\n",
      "5                           6;other\n",
      "6                   7;packaged meat\n",
      "7                 8;bakery desserts\n",
      "8                     9;pasta sauce\n",
      "9               10;kitchen supplies\n",
      "10              11;cold flu allergy\n",
      "11                   12;fresh pasta\n",
      "12                13;prepared meals\n",
      "13        14;tofu meat alternatives\n",
      "14              15;packaged seafood\n",
      "15                   16;fresh herbs\n",
      "16            17;baking ingredients\n",
      "17  18;bulk dried fruits vegetables\n",
      "18                 19;oils vinegars\n",
      "19                  20;oral hygiene\n",
      "20               21;packaged cheese\n",
      "21                     22;hair care\n",
      "22                 23;popcorn jerky\n",
      "23                  24;fresh fruits\n",
      "24                          25;soap\n",
      "25                        26;coffee\n",
      "26                 27;beers coolers\n",
      "27                     28;red wines\n",
      "28         29;honeys syrups nectars\n",
      "29                  30;latino foods\n",
      "30                  31;refrigerated\n",
      "31              32;packaged produce\n",
      "32                  33;kosher foods\n",
      "33           34;frozen meat seafood\n",
      "34               35;poultry counter\n",
      "35                        36;butter\n",
      "36                 37;ice cream ice\n",
      "37                  38;frozen meals\n",
      "38               39;seafood counter\n",
      "39                 40;dog food care\n",
      "40                 41;cat food care\n",
      "41       42;frozen vegan vegetarian\n",
      "42                    43;buns rolls\n",
      "43                  44;eye ear care\n",
      "44               45;candy chocolate\n",
      "45                      46;mint gum\n",
      "46          47;vitamins supplements\n",
      "47       48;breakfast bars pastries\n",
      "48              49;packaged poultry\n",
      "49        50;fruit vegetable snacks\n"
     ]
    }
   ],
   "source": [
    "import pandas as pd"
   ]
  }
 ],
 "metadata": {
  "kernelspec": {
   "display_name": "Python 3",
   "language": "python",
   "name": "python3"
  },
  "language_info": {
   "codemirror_mode": {
    "name": "ipython",
    "version": 3
   },
   "file_extension": ".py",
   "mimetype": "text/x-python",
   "name": "python",
   "nbconvert_exporter": "python",
   "pygments_lexer": "ipython3",
   "version": "3.12.2"
  }
 },
 "nbformat": 4,
 "nbformat_minor": 2
}
